{
 "cells": [
  {
   "cell_type": "markdown",
   "metadata": {},
   "source": [
    "## Amharic Named Entity Recognition (NER) system"
   ]
  },
  {
   "cell_type": "markdown",
   "metadata": {},
   "source": [
    "### Importing the necessary libraries"
   ]
  },
  {
   "cell_type": "code",
   "execution_count": 104,
   "metadata": {},
   "outputs": [],
   "source": [
    "import pandas as pd\n",
    "import demoji\n",
    "\n",
    "from amseg.amharicNormalizer import AmharicNormalizer as normalizer\n",
    "from amseg.amharicSegmenter import AmharicSegmenter\n",
    "\n"
   ]
  },
  {
   "cell_type": "code",
   "execution_count": 105,
   "metadata": {},
   "outputs": [],
   "source": [
    "import warnings\n",
    "warnings.filterwarnings('ignore')"
   ]
  },
  {
   "cell_type": "code",
   "execution_count": 277,
   "metadata": {},
   "outputs": [],
   "source": [
    "import regex as re\n",
    "    \n",
    "def remove_emoji(text):\n",
    "    try:\n",
    "        no_emoji = demoji.replace(text, repl = \"\")\n",
    "    except:\n",
    "        no_emoji = text\n",
    "\n",
    "    return no_emoji\n",
    "\n",
    "def normal_former(message):\n",
    "  normalized = normalizer.normalize(message)\n",
    "  return normalized\n",
    "\n",
    "def tokenizer(message):\n",
    "  \n",
    "  punct = ['።', '፤', '፡', '!', '?', '፥', '፦', '፧', '(', ')', ',', '.', '-']\n",
    "  sent_punct = []\n",
    "  word_punct = []\n",
    "  undesired_words = ['@classy', 'ብርands', 'ብርandseller', '@sami_twa', '@kingsmarque']\n",
    "  segmenter = AmharicSegmenter(sent_punct,word_punct)\n",
    "  words = segmenter.amharic_tokenizer(message)\n",
    "\n",
    "  return [word for word in words if word not in punct and not re.match(r'[a-zA-Z]', word) and word not in undesired_words]\n",
    "\n",
    "def label_conll_format(word_list):\n",
    "    labeled_data = []\n",
    "    i = 0\n",
    "    while i < len(word_list):\n",
    "        word = word_list[i]\n",
    "\n",
    "        if word == \"ዋጋ\":\n",
    "            # Label 'ዋጋ' as B-Price and next two words as I-Price\n",
    "            labeled_data.append((word, \"B-Price\"))\n",
    "            if i + 1 < len(word_list):\n",
    "                labeled_data.append((word_list[i + 1], \"I-Price\"))\n",
    "            if i + 2 < len(word_list):\n",
    "                labeled_data.append((word_list[i + 2], \"I-Price\"))\n",
    "            i += 3\n",
    "\n",
    "        elif word == \"አድራሻ\":\n",
    "            # Label 'አድራሻ' as O, then next two words as location\n",
    "            labeled_data.append((word, \"O\"))\n",
    "            if i + 1 < len(word_list):\n",
    "                labeled_data.append((word_list[i + 1], \"B-LOC\"))\n",
    "            if i + 2 < len(word_list):\n",
    "                labeled_data.append((word_list[i + 2], \"I-LOC\"))\n",
    "            if i + 3 < len(word_list):\n",
    "                labeled_data.append((word_list[i + 3], \"I-LOC\"))                \n",
    "            if i + 4 < len(word_list):\n",
    "                labeled_data.append((word_list[i + 4], \"I-LOC\"))                  \n",
    "            i += 5\n",
    "\n",
    "        else:\n",
    "            # Label all other words as O\n",
    "            labeled_data.append((word, \"O\"))\n",
    "            i += 1\n",
    "\n",
    "    return labeled_data\n",
    "\n"
   ]
  },
  {
   "cell_type": "markdown",
   "metadata": {},
   "source": [
    "#### Loading and cleaning data "
   ]
  },
  {
   "cell_type": "code",
   "execution_count": 188,
   "metadata": {},
   "outputs": [],
   "source": [
    "telegram_data = pd.read_csv('../data/telegram_data.csv')"
   ]
  },
  {
   "cell_type": "code",
   "execution_count": 190,
   "metadata": {},
   "outputs": [],
   "source": [
    "data_clean_message = telegram_data[~(telegram_data['Message'].isna())]\n",
    "data_clean_message.loc[:,'message_no_emoji'] = data_clean_message['Message'].apply(lambda x: remove_emoji(x))\n",
    "data_clean_message = data_clean_message[data_clean_message['message_no_emoji'].str.contains(\"Price\")]"
   ]
  },
  {
   "cell_type": "code",
   "execution_count": 278,
   "metadata": {},
   "outputs": [],
   "source": [
    "replacements = {\n",
    "    'Price': 'ዋጋ',\n",
    "    'Br' : ' ብር',\n",
    "    'br ': ' ብር',\n",
    "    'Address': ' አድራሻ',\n",
    "    'Addis Ababa': 'አዲስ አበባ',\n",
    "    'HayaHulet': 'ሀያሁለት', \n",
    "}\n",
    "\n",
    "data_clean_message['message_no_emoji'] = data_clean_message['message_no_emoji'].replace(replacements)\n"
   ]
  },
  {
   "cell_type": "code",
   "execution_count": 279,
   "metadata": {},
   "outputs": [],
   "source": [
    "message_only = data_clean_message['message_no_emoji']\n",
    "message_only.to_csv('../data/message.csv', index=False)"
   ]
  },
  {
   "cell_type": "markdown",
   "metadata": {},
   "source": [
    "#### Preprocess text data"
   ]
  },
  {
   "cell_type": "code",
   "execution_count": 275,
   "metadata": {},
   "outputs": [],
   "source": [
    "messages = pd.read_csv('../data/message.csv')"
   ]
  },
  {
   "cell_type": "code",
   "execution_count": null,
   "metadata": {},
   "outputs": [],
   "source": [
    "corpus = []\n",
    "for i in range(messages.shape[0]):\n",
    "  corpus.extend(tokenizer(messages['normalized'].iloc[i]))"
   ]
  },
  {
   "cell_type": "code",
   "execution_count": null,
   "metadata": {},
   "outputs": [],
   "source": [
    "labeled_data = label_conll_format(corpus)\n",
    "\n",
    "\n",
    "co_nll_output = []\n",
    "for word, label in labeled_data:\n",
    "    co_nll_output.append(f\"{word} {label}\")\n",
    "\n",
    "co_nll_formatted_output = \"\\n\".join(co_nll_output) + \"\\n\"\n",
    "\n",
    "with open('../data/conll_output.txt', 'w', encoding='utf-8') as f:\n",
    "    f.write(co_nll_formatted_output)\n"
   ]
  }
 ],
 "metadata": {
  "kernelspec": {
   "display_name": ".venv",
   "language": "python",
   "name": "python3"
  },
  "language_info": {
   "codemirror_mode": {
    "name": "ipython",
    "version": 3
   },
   "file_extension": ".py",
   "mimetype": "text/x-python",
   "name": "python",
   "nbconvert_exporter": "python",
   "pygments_lexer": "ipython3",
   "version": "3.12.5"
  }
 },
 "nbformat": 4,
 "nbformat_minor": 2
}
